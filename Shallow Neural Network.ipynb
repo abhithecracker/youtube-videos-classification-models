{
 "cells": [
  {
   "cell_type": "code",
   "execution_count": 1,
   "metadata": {},
   "outputs": [],
   "source": [
    "import pandas as pd\n",
    "from sklearn import model_selection, preprocessing, linear_model, naive_bayes, metrics, svm\n",
    "from sklearn.feature_extraction.text import TfidfVectorizer\n",
    "from sklearn import decomposition, ensemble"
   ]
  },
  {
   "cell_type": "code",
   "execution_count": 2,
   "metadata": {},
   "outputs": [],
   "source": [
    "data = pd.read_csv('data/data/Youtube_data.csv')\n",
    "data['Text'] = data['Title']+data['Description']\n",
    "data = data[['Text','Category']]"
   ]
  },
  {
   "cell_type": "code",
   "execution_count": 3,
   "metadata": {},
   "outputs": [],
   "source": [
    "tfidf_vect_ngram = TfidfVectorizer(analyzer='word', token_pattern=r'\\w{1,}', ngram_range=(2,3), max_features=5000)\n",
    "tfidf_vect_ngram.fit(data['Text'].values.astype('U'))\n",
    "data_tfidf_ngram =  tfidf_vect_ngram.transform(data['Text'].values.astype('U'))\n",
    "train_x, valid_x, train_y, valid_y = model_selection.train_test_split(data_tfidf_ngram, data['Category'])\n",
    "\n",
    "encoder = preprocessing.LabelEncoder()\n",
    "train_y = encoder.fit_transform(train_y)\n",
    "valid_y = encoder.fit_transform(valid_y)"
   ]
  },
  {
   "cell_type": "code",
   "execution_count": 4,
   "metadata": {},
   "outputs": [
    {
     "name": "stderr",
     "output_type": "stream",
     "text": [
      "Using TensorFlow backend.\n"
     ]
    }
   ],
   "source": [
    "from keras import layers, models, optimizers"
   ]
  },
  {
   "cell_type": "code",
   "execution_count": 5,
   "metadata": {},
   "outputs": [
    {
     "name": "stdout",
     "output_type": "stream",
     "text": [
      "Epoch 1/1\n",
      "2487/2487 [==============================] - 3s 1ms/step - loss: -6.2719\n"
     ]
    },
    {
     "data": {
      "text/plain": [
       "0.16646562123039807"
      ]
     },
     "execution_count": 5,
     "metadata": {},
     "output_type": "execute_result"
    }
   ],
   "source": [
    "# create input layer \n",
    "input_layer = layers.Input((train_x.shape[1], ), sparse=True)\n",
    "\n",
    "# create hidden layer\n",
    "hidden_layer1 = layers.Dense(100, activation=\"relu\")(input_layer)\n",
    "\n",
    "hidden_layer2 = layers.Dense(100, activation=\"relu\")(hidden_layer1)\n",
    "\n",
    "# create output layer\n",
    "output_layer = layers.Dense(1, activation=\"sigmoid\")(hidden_layer2)\n",
    "\n",
    "classifier = models.Model(inputs = input_layer, outputs = output_layer)\n",
    "classifier.compile(optimizer=optimizers.Adam(), loss='binary_crossentropy')\n",
    "\n",
    "classifier.fit(train_x, train_y)\n",
    "\n",
    "# predict the labels on validation dataset\n",
    "predictions = classifier.predict(valid_x)\n",
    "predictions = predictions.argmax(axis=-1)\n",
    "\n",
    "metrics.accuracy_score(predictions, valid_y)"
   ]
  },
  {
   "cell_type": "code",
   "execution_count": null,
   "metadata": {},
   "outputs": [],
   "source": []
  }
 ],
 "metadata": {
  "kernelspec": {
   "display_name": "Python 3",
   "language": "python",
   "name": "python3"
  },
  "language_info": {
   "codemirror_mode": {
    "name": "ipython",
    "version": 3
   },
   "file_extension": ".py",
   "mimetype": "text/x-python",
   "name": "python",
   "nbconvert_exporter": "python",
   "pygments_lexer": "ipython3",
   "version": "3.6.4"
  }
 },
 "nbformat": 4,
 "nbformat_minor": 2
}
