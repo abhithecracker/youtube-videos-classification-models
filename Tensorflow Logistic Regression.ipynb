{
 "cells": [
  {
   "cell_type": "code",
   "execution_count": 1,
   "metadata": {},
   "outputs": [],
   "source": [
    "import tensorflow as tf\n",
    "import pandas as pd\n",
    "import numpy as np\n",
    "import time\n",
    "from sklearn.model_selection import train_test_split\n",
    "import matplotlib.pyplot as plt\n",
    "from sklearn.feature_extraction.text import CountVectorizer\n",
    "from sklearn import model_selection, preprocessing"
   ]
  },
  {
   "cell_type": "code",
   "execution_count": 2,
   "metadata": {},
   "outputs": [],
   "source": [
    "data = pd.read_csv('data/data/Youtube_data.csv')\n",
    "data['Text'] = data['Title']+data['Description']\n",
    "data = data[['Text','Category']]"
   ]
  },
  {
   "cell_type": "code",
   "execution_count": 3,
   "metadata": {},
   "outputs": [],
   "source": [
    "bag_of_words = CountVectorizer()\n",
    "bag_of_words.fit(data['Text'].values.astype('U'))\n",
    "txt_transform = bag_of_words.transform(data['Text'].values.astype('U'))\n",
    "\n",
    "trainX, testX, trainY, testY = model_selection.train_test_split(txt_transform, data['Category'])\n",
    "trainX = trainX.todense()\n",
    "testX = testX.todense()\n",
    "\n",
    "encoder = preprocessing.LabelEncoder()\n",
    "trainY = pd.get_dummies(encoder.fit_transform(trainY))\n",
    "testY = pd.get_dummies(encoder.fit_transform(testY))"
   ]
  },
  {
   "cell_type": "code",
   "execution_count": 4,
   "metadata": {},
   "outputs": [],
   "source": [
    "numFeatures = trainX.shape[1]\n",
    "\n",
    "numLabels = trainY.shape[1]\n",
    "\n",
    "X = tf.placeholder(tf.float32, [None, numFeatures])\n",
    "yGold = tf.placeholder(tf.float32, [None, numLabels])"
   ]
  },
  {
   "cell_type": "code",
   "execution_count": 5,
   "metadata": {},
   "outputs": [],
   "source": [
    "W = tf.Variable(tf.zeros([16335, 6]))\n",
    "b = tf.Variable(tf.zeros([6]))"
   ]
  },
  {
   "cell_type": "code",
   "execution_count": 6,
   "metadata": {},
   "outputs": [],
   "source": [
    "#Randomly sample from a normal distribution with standard deviation .01\n",
    "\n",
    "weights = tf.Variable(tf.random_normal([numFeatures,numLabels],\n",
    "                                       mean=0,\n",
    "                                       stddev=0.01,\n",
    "                                       name=\"weights\"))\n",
    "\n",
    "bias = tf.Variable(tf.random_normal([1,numLabels],\n",
    "                                    mean=0,\n",
    "                                    stddev=0.01,\n",
    "                                    name=\"bias\"))"
   ]
  },
  {
   "cell_type": "code",
   "execution_count": 7,
   "metadata": {},
   "outputs": [],
   "source": [
    "# Three-component breakdown of the Logistic Regression equation.\n",
    "# Note that these feed into each other.\n",
    "apply_weights_OP = tf.matmul(X, weights, name=\"apply_weights\")\n",
    "add_bias_OP = tf.add(apply_weights_OP, bias, name=\"add_bias\") \n",
    "activation_OP = tf.nn.sigmoid(add_bias_OP, name=\"activation\")"
   ]
  },
  {
   "cell_type": "code",
   "execution_count": 8,
   "metadata": {},
   "outputs": [],
   "source": [
    "# Number of Epochs in our training\n",
    "numEpochs = 700\n",
    "\n",
    "# Defining our learning rate iterations (decay)\n",
    "learningRate = tf.train.exponential_decay(learning_rate=0.0008,\n",
    "                                          global_step= 1,\n",
    "                                          decay_steps=trainX.shape[0],\n",
    "                                          decay_rate= 0.95,\n",
    "                                          staircase=True)"
   ]
  },
  {
   "cell_type": "code",
   "execution_count": 9,
   "metadata": {},
   "outputs": [],
   "source": [
    "#Defining our cost function - Squared Mean Error\n",
    "cost_OP = tf.nn.l2_loss(activation_OP-yGold, name=\"squared_error_cost\")\n",
    "\n",
    "#Defining our Gradient Descent\n",
    "training_OP = tf.train.GradientDescentOptimizer(learningRate).minimize(cost_OP)"
   ]
  },
  {
   "cell_type": "code",
   "execution_count": 10,
   "metadata": {},
   "outputs": [],
   "source": [
    "# Create a tensorflow session\n",
    "sess = tf.Session()\n",
    "\n",
    "# Initialize our weights and biases variables.\n",
    "init_OP = tf.global_variables_initializer()\n",
    "\n",
    "# Initialize all tensorflow variables\n",
    "sess.run(init_OP)"
   ]
  },
  {
   "cell_type": "code",
   "execution_count": 11,
   "metadata": {},
   "outputs": [],
   "source": [
    "# argmax(activation_OP, 1) returns the label with the most probability\n",
    "# argmax(yGold, 1) is the correct label\n",
    "correct_predictions_OP = tf.equal(tf.argmax(activation_OP,1),tf.argmax(yGold,1))\n",
    "\n",
    "# If every false prediction is 0 and every true prediction is 1, the average returns us the accuracy\"\n",
    "accuracy_OP = tf.reduce_mean(tf.cast(correct_predictions_OP, \"float\"))\n",
    "\n",
    "# Summary op for regression output\n",
    "activation_summary_OP = tf.summary.histogram(\"output\", activation_OP)\n",
    "\n",
    "# Summary op for accuracy\n",
    "accuracy_summary_OP = tf.summary.scalar(\"accuracy\", accuracy_OP)\n",
    "\n",
    "# Summary op for cost\n",
    "cost_summary_OP = tf.summary.scalar(\"cost\", cost_OP)\n",
    "\n",
    "# Summary ops to check how variables (W, b) are updating after each iteration\n",
    "weightSummary = tf.summary.histogram(\"weights\", weights.eval(session=sess))\n",
    "biasSummary = tf.summary.histogram(\"biases\", bias.eval(session=sess))\n",
    "\n",
    "# Merge all summaries\n",
    "merged = tf.summary.merge([activation_summary_OP, accuracy_summary_OP, cost_summary_OP, weightSummary, biasSummary])\n",
    "\n",
    "# Summary writer\n",
    "writer = tf.summary.FileWriter(\"summary_logs\", sess.graph)"
   ]
  },
  {
   "cell_type": "code",
   "execution_count": 12,
   "metadata": {},
   "outputs": [
    {
     "name": "stdout",
     "output_type": "stream",
     "text": [
      "step 0, training accuracy 0.671492, cost 1374.55, change in cost 1374.55\n",
      "step 10, training accuracy 0.842782, cost 679.86, change in cost 694.687\n",
      "step 20, training accuracy 0.841978, cost 531.356, change in cost 148.504\n",
      "step 30, training accuracy 0.863691, cost 464.012, change in cost 67.3445\n",
      "step 40, training accuracy 0.87696, cost 411.945, change in cost 52.0668\n",
      "step 50, training accuracy 0.881785, cost 382.585, change in cost 29.36\n",
      "step 60, training accuracy 0.88661, cost 355.9, change in cost 26.6855\n",
      "step 70, training accuracy 0.89224, cost 336.82, change in cost 19.0798\n",
      "step 80, training accuracy 0.897869, cost 318.143, change in cost 18.677\n",
      "step 90, training accuracy 0.901086, cost 303.352, change in cost 14.7904\n",
      "step 100, training accuracy 0.903498, cost 294.486, change in cost 8.8663\n",
      "step 110, training accuracy 0.905911, cost 282.803, change in cost 11.6834\n",
      "step 120, training accuracy 0.908323, cost 273.924, change in cost 8.87912\n",
      "step 130, training accuracy 0.909932, cost 267.713, change in cost 6.21036\n",
      "step 140, training accuracy 0.914355, cost 259.339, change in cost 8.37454\n",
      "step 150, training accuracy 0.917571, cost 253.347, change in cost 5.99156\n",
      "step 160, training accuracy 0.91918, cost 246.303, change in cost 7.04376\n",
      "step 170, training accuracy 0.921592, cost 241.437, change in cost 4.86668\n",
      "step 180, training accuracy 0.926015, cost 235.254, change in cost 6.18246\n",
      "step 190, training accuracy 0.927222, cost 231.138, change in cost 4.11617\n",
      "step 200, training accuracy 0.930438, cost 225.694, change in cost 5.44406\n",
      "step 210, training accuracy 0.93084, cost 221.966, change in cost 3.72829\n",
      "step 220, training accuracy 0.932449, cost 217.199, change in cost 4.76688\n",
      "step 230, training accuracy 0.934057, cost 213.768, change in cost 3.43115\n",
      "step 240, training accuracy 0.935263, cost 209.521, change in cost 4.24669\n",
      "step 250, training accuracy 0.93647, cost 206.289, change in cost 3.23227\n",
      "step 260, training accuracy 0.93848, cost 202.57, change in cost 3.71916\n",
      "step 270, training accuracy 0.938882, cost 199.408, change in cost 3.16118\n",
      "step 280, training accuracy 0.939686, cost 196.176, change in cost 3.23251\n",
      "step 290, training accuracy 0.939686, cost 193.122, change in cost 3.05386\n",
      "step 300, training accuracy 0.940491, cost 190.176, change in cost 2.94609\n",
      "step 310, training accuracy 0.940893, cost 187.338, change in cost 2.83763\n",
      "step 320, training accuracy 0.942099, cost 184.604, change in cost 2.73434\n",
      "step 330, training accuracy 0.944109, cost 181.969, change in cost 2.63477\n",
      "step 340, training accuracy 0.945718, cost 179.431, change in cost 2.53831\n",
      "step 350, training accuracy 0.946522, cost 176.985, change in cost 2.44547\n",
      "step 360, training accuracy 0.947728, cost 174.629, change in cost 2.35641\n",
      "step 370, training accuracy 0.94813, cost 172.357, change in cost 2.27176\n",
      "step 380, training accuracy 0.949739, cost 170.165, change in cost 2.19208\n",
      "step 390, training accuracy 0.950543, cost 168.047, change in cost 2.1178\n",
      "step 400, training accuracy 0.951749, cost 165.998, change in cost 2.04912\n",
      "step 410, training accuracy 0.951749, cost 164.013, change in cost 1.9852\n",
      "step 420, training accuracy 0.951749, cost 162.089, change in cost 1.92413\n",
      "step 430, training accuracy 0.952553, cost 160.224, change in cost 1.86533\n",
      "step 440, training accuracy 0.952553, cost 158.414, change in cost 1.8093\n",
      "step 450, training accuracy 0.953357, cost 156.657, change in cost 1.75688\n",
      "step 460, training accuracy 0.95376, cost 154.95, change in cost 1.70717\n",
      "step 470, training accuracy 0.95376, cost 153.29, change in cost 1.65971\n",
      "step 480, training accuracy 0.954564, cost 151.676, change in cost 1.61447\n",
      "step 490, training accuracy 0.954564, cost 150.105, change in cost 1.57109\n",
      "step 500, training accuracy 0.954564, cost 148.575, change in cost 1.52957\n",
      "step 510, training accuracy 0.954564, cost 147.086, change in cost 1.48959\n",
      "step 520, training accuracy 0.955368, cost 145.634, change in cost 1.45131\n",
      "step 530, training accuracy 0.95577, cost 144.22, change in cost 1.41476\n",
      "step 540, training accuracy 0.95577, cost 142.841, change in cost 1.37904\n",
      "step 550, training accuracy 0.956574, cost 141.495, change in cost 1.34526\n",
      "step 560, training accuracy 0.956574, cost 140.183, change in cost 1.3125\n",
      "step 570, training accuracy 0.956976, cost 138.902, change in cost 1.28091\n",
      "step 580, training accuracy 0.957378, cost 137.651, change in cost 1.25061\n",
      "step 590, training accuracy 0.957378, cost 136.43, change in cost 1.2213\n",
      "step 600, training accuracy 0.95778, cost 135.237, change in cost 1.19305\n",
      "step 610, training accuracy 0.95778, cost 134.071, change in cost 1.16588\n",
      "step 620, training accuracy 0.958183, cost 132.932, change in cost 1.13951\n",
      "step 630, training accuracy 0.958183, cost 131.818, change in cost 1.11409\n",
      "step 640, training accuracy 0.958183, cost 130.728, change in cost 1.08951\n",
      "step 650, training accuracy 0.958183, cost 129.662, change in cost 1.06583\n",
      "step 660, training accuracy 0.958183, cost 128.619, change in cost 1.04286\n",
      "step 670, training accuracy 0.958183, cost 127.599, change in cost 1.02071\n",
      "step 680, training accuracy 0.958585, cost 126.599, change in cost 0.999207\n",
      "step 690, training accuracy 0.958987, cost 125.621, change in cost 0.9786\n",
      "final accuracy on test set: 0.87816644\n"
     ]
    }
   ],
   "source": [
    "# Initialize reporting variables\n",
    "cost = 0\n",
    "diff = 1\n",
    "epoch_values = []\n",
    "accuracy_values = []\n",
    "cost_values = []\n",
    "\n",
    "# Training epochs\n",
    "for i in range(numEpochs):\n",
    "    if i > 1 and diff < .0001:\n",
    "        print(\"change in cost %g; convergence.\"%diff)\n",
    "        break\n",
    "    else:\n",
    "        # Run training step\n",
    "        step = sess.run(training_OP, feed_dict={X: trainX, yGold: trainY})\n",
    "        # Report occasional stats\n",
    "        if i % 10 == 0:\n",
    "            # Add epoch to epoch_values\n",
    "            epoch_values.append(i)\n",
    "            # Generate accuracy stats on test data\n",
    "            train_accuracy, newCost = sess.run([accuracy_OP, cost_OP], feed_dict={X: trainX, yGold: trainY})\n",
    "            # Add accuracy to live graphing variable\n",
    "            accuracy_values.append(train_accuracy)\n",
    "            # Add cost to live graphing variable\n",
    "            cost_values.append(newCost)\n",
    "            # Re-assign values for variables\n",
    "            diff = abs(newCost - cost)\n",
    "            cost = newCost\n",
    "\n",
    "            #generate print statements\n",
    "            print(\"step %d, training accuracy %g, cost %g, change in cost %g\"%(i, train_accuracy, newCost, diff))\n",
    "\n",
    "\n",
    "# How well do we perform on held-out test data?\n",
    "print(\"final accuracy on test set: %s\" %str(sess.run(accuracy_OP, \n",
    "                                                     feed_dict={X: testX, \n",
    "                                                                yGold: testY})))"
   ]
  },
  {
   "cell_type": "code",
   "execution_count": null,
   "metadata": {},
   "outputs": [],
   "source": []
  }
 ],
 "metadata": {
  "kernelspec": {
   "display_name": "Python 3",
   "language": "python",
   "name": "python3"
  },
  "language_info": {
   "codemirror_mode": {
    "name": "ipython",
    "version": 3
   },
   "file_extension": ".py",
   "mimetype": "text/x-python",
   "name": "python",
   "nbconvert_exporter": "python",
   "pygments_lexer": "ipython3",
   "version": "3.6.4"
  }
 },
 "nbformat": 4,
 "nbformat_minor": 2
}
