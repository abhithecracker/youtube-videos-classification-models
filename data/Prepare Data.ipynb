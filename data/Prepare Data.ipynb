{
 "cells": [
  {
   "cell_type": "code",
   "execution_count": 37,
   "metadata": {},
   "outputs": [],
   "source": [
    "from sklearn.utils import shuffle\n",
    "import pandas as pd\n",
    "import os"
   ]
  },
  {
   "cell_type": "code",
   "execution_count": 38,
   "metadata": {},
   "outputs": [],
   "source": [
    "path = 'data/'\n",
    "if 'Youtube_data.csv' in os.listdir(path):\n",
    "    os.remove('data/Youtube_data.csv')\n",
    "    "
   ]
  },
  {
   "cell_type": "code",
   "execution_count": 47,
   "metadata": {},
   "outputs": [],
   "source": [
    "data = pd.DataFrame()\n",
    "data.drop(data.index)\n",
    "for file in os.listdir(path):\n",
    "    df = pd.read_csv(os.path.join(path,file))\n",
    "    data = data.append(df,ignore_index=True)\n",
    "            "
   ]
  },
  {
   "cell_type": "code",
   "execution_count": 40,
   "metadata": {},
   "outputs": [],
   "source": [
    "data = shuffle(data)"
   ]
  },
  {
   "cell_type": "code",
   "execution_count": 41,
   "metadata": {},
   "outputs": [
    {
     "data": {
      "text/html": [
       "<div>\n",
       "<style scoped>\n",
       "    .dataframe tbody tr th:only-of-type {\n",
       "        vertical-align: middle;\n",
       "    }\n",
       "\n",
       "    .dataframe tbody tr th {\n",
       "        vertical-align: top;\n",
       "    }\n",
       "\n",
       "    .dataframe thead th {\n",
       "        text-align: right;\n",
       "    }\n",
       "</style>\n",
       "<table border=\"1\" class=\"dataframe\">\n",
       "  <thead>\n",
       "    <tr style=\"text-align: right;\">\n",
       "      <th></th>\n",
       "      <th>Video Id</th>\n",
       "      <th>Title</th>\n",
       "      <th>Description</th>\n",
       "      <th>Category</th>\n",
       "    </tr>\n",
       "  </thead>\n",
       "  <tbody>\n",
       "    <tr>\n",
       "      <th>724</th>\n",
       "      <td>b'/_qhIT8sOymk'</td>\n",
       "      <td>b'\\n                How Long Foods Stay In You...</td>\n",
       "      <td>b'How long does the process of digestion last?...</td>\n",
       "      <td>Food</td>\n",
       "    </tr>\n",
       "    <tr>\n",
       "      <th>2936</th>\n",
       "      <td>b'/sEmMtAVGlJs'</td>\n",
       "      <td>b\"\\n                Andy's National Trust Trav...</td>\n",
       "      <td>b\"Hardy's Cottage is a beautiful secluded plac...</td>\n",
       "      <td>Travel Blogs</td>\n",
       "    </tr>\n",
       "    <tr>\n",
       "      <th>2885</th>\n",
       "      <td>b'/PDGhlPTjY60'</td>\n",
       "      <td>b'\\n                How Much Do Travel Blogger...</td>\n",
       "      <td>b'See the full article here: http://globalgirl...</td>\n",
       "      <td>Travel Blogs</td>\n",
       "    </tr>\n",
       "    <tr>\n",
       "      <th>1211</th>\n",
       "      <td>b'/U7stmWKvk64'</td>\n",
       "      <td>b'\\n                Firefox Awesome Bar - Find...</td>\n",
       "      <td>b\"As you type in address bar, Firefox suggests...</td>\n",
       "      <td>History</td>\n",
       "    </tr>\n",
       "    <tr>\n",
       "      <th>1345</th>\n",
       "      <td>b'/_aevtHHULag'</td>\n",
       "      <td>b'\\n                Dan Bongino - Obama, Muell...</td>\n",
       "      <td>b'David Horowitz Freedom Center Restoration We...</td>\n",
       "      <td>History</td>\n",
       "    </tr>\n",
       "  </tbody>\n",
       "</table>\n",
       "</div>"
      ],
      "text/plain": [
       "             Video Id                                              Title  \\\n",
       "724   b'/_qhIT8sOymk'  b'\\n                How Long Foods Stay In You...   \n",
       "2936  b'/sEmMtAVGlJs'  b\"\\n                Andy's National Trust Trav...   \n",
       "2885  b'/PDGhlPTjY60'  b'\\n                How Much Do Travel Blogger...   \n",
       "1211  b'/U7stmWKvk64'  b'\\n                Firefox Awesome Bar - Find...   \n",
       "1345  b'/_aevtHHULag'  b'\\n                Dan Bongino - Obama, Muell...   \n",
       "\n",
       "                                            Description      Category  \n",
       "724   b'How long does the process of digestion last?...          Food  \n",
       "2936  b\"Hardy's Cottage is a beautiful secluded plac...  Travel Blogs  \n",
       "2885  b'See the full article here: http://globalgirl...  Travel Blogs  \n",
       "1211  b\"As you type in address bar, Firefox suggests...       History  \n",
       "1345  b'David Horowitz Freedom Center Restoration We...       History  "
      ]
     },
     "execution_count": 41,
     "metadata": {},
     "output_type": "execute_result"
    }
   ],
   "source": [
    "data.head()"
   ]
  },
  {
   "cell_type": "code",
   "execution_count": 42,
   "metadata": {},
   "outputs": [],
   "source": [
    "from nltk.corpus import stopwords\n",
    "import string\n",
    "import re\n",
    "stop_words = stopwords.words('english')"
   ]
  },
  {
   "cell_type": "code",
   "execution_count": 43,
   "metadata": {},
   "outputs": [],
   "source": [
    "import re\n",
    "def clean_data(text):\n",
    "    text = re.sub('<[^>]*>', '', text)\n",
    "    emoticons = re.findall('(?::|;|=)(?:-)',text)\n",
    "    text = (re.sub('[\\W]+', ' ', text.lower()) +\n",
    "            ' '.join(emoticons).replace('-', ''))\n",
    "    text = text.replace(\"b \",\"\")\n",
    "    text = text.replace(\"n \",\"\")\n",
    "    rm_words = [w for w in text.split() if w.lower() not in stop_words]\n",
    "    return ' '.join(rm_words)\n",
    "    return text"
   ]
  },
  {
   "cell_type": "code",
   "execution_count": 44,
   "metadata": {},
   "outputs": [],
   "source": [
    "data['Title'] = data['Title'].apply(clean_data)\n",
    "data['Description'] = data['Description'].apply(clean_data)\n",
    "data['Video Id'] = data['Video Id'].apply(clean_data)"
   ]
  },
  {
   "cell_type": "code",
   "execution_count": 45,
   "metadata": {},
   "outputs": [
    {
     "data": {
      "text/html": [
       "<div>\n",
       "<style scoped>\n",
       "    .dataframe tbody tr th:only-of-type {\n",
       "        vertical-align: middle;\n",
       "    }\n",
       "\n",
       "    .dataframe tbody tr th {\n",
       "        vertical-align: top;\n",
       "    }\n",
       "\n",
       "    .dataframe thead th {\n",
       "        text-align: right;\n",
       "    }\n",
       "</style>\n",
       "<table border=\"1\" class=\"dataframe\">\n",
       "  <thead>\n",
       "    <tr style=\"text-align: right;\">\n",
       "      <th></th>\n",
       "      <th>Video Id</th>\n",
       "      <th>Title</th>\n",
       "      <th>Description</th>\n",
       "      <th>Category</th>\n",
       "    </tr>\n",
       "  </thead>\n",
       "  <tbody>\n",
       "    <tr>\n",
       "      <th>724</th>\n",
       "      <td>_qhit8soymk</td>\n",
       "      <td>long foods stay iyour stomach</td>\n",
       "      <td>long process digestiolast find still hungry ma...</td>\n",
       "      <td>Food</td>\n",
       "    </tr>\n",
       "    <tr>\n",
       "      <th>2936</th>\n",
       "      <td>semmtavgljs</td>\n",
       "      <td>andy national trust travel blogs thomas hardy ...</td>\n",
       "      <td>hardy cottage beautiful secluded place visit f...</td>\n",
       "      <td>Travel Blogs</td>\n",
       "    </tr>\n",
       "    <tr>\n",
       "      <th>2885</th>\n",
       "      <td>pdghlptjy60</td>\n",
       "      <td>much travel bloggers get paid</td>\n",
       "      <td>see full article http globalgirltravels com mu...</td>\n",
       "      <td>Travel Blogs</td>\n",
       "    </tr>\n",
       "    <tr>\n",
       "      <th>1211</th>\n",
       "      <td>u7stmwkvk64</td>\n",
       "      <td>firefox awesome bar find bookmarks history tab...</td>\n",
       "      <td>type iaddress bar firefox suggests websites vi...</td>\n",
       "      <td>History</td>\n",
       "    </tr>\n",
       "    <tr>\n",
       "      <th>1345</th>\n",
       "      <td>_aevthhulag</td>\n",
       "      <td>dabongino obama mueller biggest scam iamericah...</td>\n",
       "      <td>david horowitz freedom center restoratioweeken...</td>\n",
       "      <td>History</td>\n",
       "    </tr>\n",
       "  </tbody>\n",
       "</table>\n",
       "</div>"
      ],
      "text/plain": [
       "         Video Id                                              Title  \\\n",
       "724   _qhit8soymk                      long foods stay iyour stomach   \n",
       "2936  semmtavgljs  andy national trust travel blogs thomas hardy ...   \n",
       "2885  pdghlptjy60                      much travel bloggers get paid   \n",
       "1211  u7stmwkvk64  firefox awesome bar find bookmarks history tab...   \n",
       "1345  _aevthhulag  dabongino obama mueller biggest scam iamericah...   \n",
       "\n",
       "                                            Description      Category  \n",
       "724   long process digestiolast find still hungry ma...          Food  \n",
       "2936  hardy cottage beautiful secluded place visit f...  Travel Blogs  \n",
       "2885  see full article http globalgirltravels com mu...  Travel Blogs  \n",
       "1211  type iaddress bar firefox suggests websites vi...       History  \n",
       "1345  david horowitz freedom center restoratioweeken...       History  "
      ]
     },
     "execution_count": 45,
     "metadata": {},
     "output_type": "execute_result"
    }
   ],
   "source": [
    "data.head()"
   ]
  },
  {
   "cell_type": "code",
   "execution_count": 46,
   "metadata": {},
   "outputs": [],
   "source": [
    "data.to_csv('data/Youtube_data.csv',index=False)"
   ]
  },
  {
   "cell_type": "code",
   "execution_count": null,
   "metadata": {},
   "outputs": [],
   "source": []
  }
 ],
 "metadata": {
  "kernelspec": {
   "display_name": "Python 3",
   "language": "python",
   "name": "python3"
  },
  "language_info": {
   "codemirror_mode": {
    "name": "ipython",
    "version": 3
   },
   "file_extension": ".py",
   "mimetype": "text/x-python",
   "name": "python",
   "nbconvert_exporter": "python",
   "pygments_lexer": "ipython3",
   "version": "3.6.4"
  }
 },
 "nbformat": 4,
 "nbformat_minor": 2
}
